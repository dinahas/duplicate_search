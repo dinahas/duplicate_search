{
 "cells": [
  {
   "cell_type": "code",
   "execution_count": 1,
   "metadata": {},
   "outputs": [],
   "source": [
    "import os\n",
    "import subprocess\n",
    "import cv2\n",
    "import shutil"
   ]
  },
  {
   "cell_type": "code",
   "execution_count": 2,
   "metadata": {},
   "outputs": [],
   "source": [
    "from __future__ import division\n",
    "from PIL import Image"
   ]
  },
  {
   "cell_type": "code",
   "execution_count": 8,
   "metadata": {},
   "outputs": [],
   "source": [
    "from contextlib import closing\n",
    "import pymysql\n",
    "from pymysql.cursors import DictCursor"
   ]
  },
  {
   "cell_type": "code",
   "execution_count": 9,
   "metadata": {},
   "outputs": [],
   "source": [
    "from pydrive.auth import GoogleAuth\n",
    "\n",
    "#gauth = GoogleAuth()\n",
    "#gauth.LocalWebserverAuth() "
   ]
  },
  {
   "cell_type": "code",
   "execution_count": 10,
   "metadata": {},
   "outputs": [],
   "source": [
    "from pydrive.drive import GoogleDrive\n",
    "\n",
    "drive = GoogleDrive(gauth)"
   ]
  },
  {
   "cell_type": "code",
   "execution_count": 11,
   "metadata": {},
   "outputs": [],
   "source": [
    "def ListFolder(parent, folder):\n",
    "    results = []\n",
    "    file_list = []\n",
    "    file_list = drive.ListFile({'q': \"'%s' in parents and trashed=false\" % parent}).GetList()\n",
    "    for f in file_list:\n",
    "        if f['mimeType']=='application/vnd.google-apps.folder': # if folder\n",
    "            filelist.append({\"id\":f['id'],\"title\":f['title'],\"list\":ListFolder(f['id'])})\n",
    "        elif f['mimeType']=='video/x-msvideo' and f['title'] not in  [\"11480.avi\", \"11460.avi\", \"11539.avi\", \"11538.avi\", \"11537.avi\", \"11536.avi\", \"11535.avi\", \"11534.avi\", \"11533.avi\", \"11532.avi\"]:\n",
    "            file = drive.CreateFile({'id': f['id']})\n",
    "            file.GetContentFile(folder + f['title'])\n",
    "            results = add_video(f[\"title\"], f[\"alternateLink\"])\n",
    "            for video in os.listdir(dir_main):\n",
    "                if '.avi' in video:\n",
    "                    os.makedirs(\"pict\", exist_ok=True)\n",
    "                    subprocess.call(['ffmpeg', '-i', video, '-vf', \"select='isnan(prev_selected_t)+gte(t-prev_selected_t\\,10)'\", '-vsync', '0', '-an', '-frame_pts', '1', \n",
    "                             'pict/%d.jpg'])\n",
    "                    #os.makedirs(dir_main + os.path.splitext(video)[0] + '/', exist_ok=True)\n",
    "                    os.rename(dir_main + video, subdir + video)\n",
    "                    os.rename(subdir, dir_main + os.path.splitext(video)[0] + '/')\n",
    "                    for vid in os.listdir(os.path.splitext(video)[0]):\n",
    "                        if '.avi' in vid:\n",
    "                            for element in results:\n",
    "                                    if vid == element[\"video_name\"]:\n",
    "                                        search_similar(vid, element[\"id\"], dir_main + vid.split(\".\")[0] + '/', dir_main)       \n",
    "                    delete_dir(video.split(\".\")[0])\n"
   ]
  },
  {
   "cell_type": "code",
   "execution_count": 12,
   "metadata": {},
   "outputs": [],
   "source": [
    "def add_video(video_name, video_url):\n",
    "    with closing(pymysql.connect(\n",
    "        host='localhost',\n",
    "        user='Dina',\n",
    "        password='hsehse',\n",
    "        db='miem',\n",
    "        charset='utf8mb4',\n",
    "        cursorclass=DictCursor\n",
    "    )) as connection:\n",
    "        with connection.cursor() as cursor:\n",
    "            query = \"\"\"\n",
    "            INSERT INTO\n",
    "                video_table (video_name, video_url, video_fps)\n",
    "            VALUES\n",
    "                ( %(video_name)s, %(video_url)s , %(video_fps)s)\n",
    "            \"\"\"\n",
    "            data = [{\n",
    "                'video_name': video_name,\n",
    "                'video_url': video_url,\n",
    "                'video_fps': cv2.VideoCapture(subdir + video_name).get(cv2.CAP_PROP_FPS)\n",
    "            }]\n",
    "            cursor.executemany(query, data)\n",
    "            connection.commit()\n",
    "            cursor.execute(\"SELECT * FROM video_table WHERE video_url=%s LIMIT 1\", video_url)\n",
    "            results = cursor.fetchall() \n",
    "            connection.commit() \n",
    "            return(results)"
   ]
  },
  {
   "cell_type": "code",
   "execution_count": 13,
   "metadata": {},
   "outputs": [],
   "source": [
    "def search_hash(video_id, hash_curr, filename, tolerance):\n",
    "    with closing(pymysql.connect(\n",
    "        host='localhost',\n",
    "        user='Dina',\n",
    "        password='hsehse',\n",
    "        db='miem',\n",
    "        charset='utf8mb4',\n",
    "        cursorclass=DictCursor\n",
    "    )) as connection:\n",
    "        with connection.cursor() as cursor:\n",
    "            cursor.execute(\"SELECT * FROM hash_table WHERE video_id NOT LIKE %s\", video_id)\n",
    "            results = cursor.fetchall()\n",
    "            connection.commit()\n",
    "            for res in results:\n",
    "                #print(res)\n",
    "                if hashes_are_similar(res[\"hash\"], hash_curr, tolerance):\n",
    "                    write_logs(video_id, filename, res[\"video_id\"], res[\"timecode\"])"
   ]
  },
  {
   "cell_type": "code",
   "execution_count": 14,
   "metadata": {},
   "outputs": [],
   "source": [
    "def write_logs(video1, timecode1, video2, timecode2):\n",
    "    with closing(pymysql.connect(\n",
    "        host='localhost',\n",
    "        user='Dina',\n",
    "        password='hsehse',\n",
    "        db='miem',\n",
    "        charset='utf8mb4',\n",
    "        cursorclass=DictCursor\n",
    "    )) as connection:\n",
    "        with connection.cursor() as cursor:\n",
    "            query = \"\"\"\n",
    "            INSERT INTO\n",
    "                logs (video1_id, timecode_1, video2_id, timecode_2)\n",
    "            VALUES\n",
    "                ( %(name1)s, %(time1)s, %(name2)s, %(time2)s )\n",
    "            \"\"\"\n",
    "            data = [{\n",
    "                'name1': video1,\n",
    "                'time1': timecode1,\n",
    "                'name2': video2,\n",
    "                'time2': timecode2\n",
    "            }]\n",
    "            cursor.executemany(query, data)\n",
    "            connection.commit()"
   ]
  },
  {
   "cell_type": "code",
   "execution_count": 15,
   "metadata": {},
   "outputs": [],
   "source": [
    "def add_hash(video_id, timecode, video_hash):\n",
    "    with closing(pymysql.connect(\n",
    "        host='localhost',\n",
    "        user='Dina',\n",
    "        password='hsehse',\n",
    "        db='miem',\n",
    "        charset='utf8mb4',\n",
    "        cursorclass=DictCursor\n",
    "    )) as connection:\n",
    "        with connection.cursor() as cursor:\n",
    "            query = \"\"\"\n",
    "            INSERT INTO\n",
    "                hash_table (video_id, timecode, hash)\n",
    "            VALUES\n",
    "                ( %(video_id)s, %(timecode)s, %(hash)s )\n",
    "            \"\"\"\n",
    "            data = [{\n",
    "                'video_id': video_id,\n",
    "                'timecode': timecode,\n",
    "                'hash': video_hash\n",
    "            }]\n",
    "            cursor.executemany(query, data)\n",
    "            connection.commit()"
   ]
  },
  {
   "cell_type": "code",
   "execution_count": 16,
   "metadata": {},
   "outputs": [],
   "source": [
    "def hash_distance(left_hash, right_hash):\n",
    "    \"\"\"Compute the hamming distance between two hashes\"\"\"\n",
    "    if len(left_hash) != len(right_hash):\n",
    "        raise ValueError('Hamming distance requires two strings of equal length')\n",
    "\n",
    "    return sum(map(lambda x: 0 if x[0] == x[1] else 1, zip(left_hash, right_hash)))\n",
    "\n",
    "\n",
    "def hashes_are_similar(left_hash, right_hash, tolerance=0):\n",
    "    \"\"\"\n",
    "    Return True if the hamming distance between\n",
    "    the image hashes are less than the given tolerance.\n",
    "    \"\"\"\n",
    "    return hash_distance(left_hash, right_hash) <= tolerance\n",
    "\n",
    "\n",
    "def average_hash(image_path, hash_size=8):\n",
    "    \"\"\" Compute the average hash of the given image. \"\"\"\n",
    "    with open(image_path, 'rb') as f:\n",
    "        # Open the image, resize it and convert it to black & white.\n",
    "        image = Image.open(f).resize((hash_size, hash_size), Image.ANTIALIAS).convert('L')\n",
    "        pixels = list(image.getdata())\n",
    "\n",
    "    avg = sum(pixels) / len(pixels)\n",
    "\n",
    "    # Compute the hash based on each pixels value compared to the average.\n",
    "    bits = \"\".join(map(lambda pixel: '1' if pixel > avg else '0', pixels))\n",
    "    hashformat = \"0{hashlength}x\".format(hashlength=hash_size ** 2 // 4)\n",
    "    return int(bits, 2).__format__(hashformat)\n",
    "\n",
    "\n",
    "def distance(image_path, other_image_path):\n",
    "    \"\"\" Compute the hamming distance between two images\"\"\"\n",
    "    image_hash = average_hash(image_path)\n",
    "    other_image_hash = average_hash(other_image_path)\n",
    "\n",
    "    return hash_distance(image_hash, other_image_hash)\n",
    "\n",
    "\n",
    "def is_look_alike(image_path, other_image_path, tolerance=0):\n",
    "    image_hash = average_hash(image_path)\n",
    "    other_image_hash = average_hash(other_image_path)\n",
    "\n",
    "    return hashes_are_similar(image_hash, other_image_hash, tolerance)"
   ]
  },
  {
   "cell_type": "code",
   "execution_count": 17,
   "metadata": {
    "scrolled": true
   },
   "outputs": [],
   "source": [
    "def search_similar(video, video_id, subdir, dir_main):\n",
    "    name = ''\n",
    "\n",
    "    for filename in os.listdir(subdir):\n",
    "        if '.jpg' in filename:\n",
    "            file = filename.split(\".\")[0]\n",
    "            hash_curr = average_hash(subdir + '/' + file + \".jpg\")\n",
    "            search_hash(video_id, hash_curr, file, tolerance = 0)\n",
    "            add_hash(video_id, file, hash_curr)\n",
    "                            \n",
    "def delete_dir(folder):\n",
    "    print(dir_main + folder)\n",
    "    shutil.rmtree(dir_main + folder, ignore_errors=True)"
   ]
  },
  {
   "cell_type": "code",
   "execution_count": 18,
   "metadata": {},
   "outputs": [],
   "source": [
    "def main():\n",
    "    ListFolder('0B-FXLXAQElhrfjNiX0ZYMWFGWUlRenRBVFRlTldvbDFkdnVTWUVnOHJDZE1UbWpYM1JrZkU', dir_main)\n",
    "    #print(database)"
   ]
  },
  {
   "cell_type": "code",
   "execution_count": 20,
   "metadata": {
    "scrolled": true
   },
   "outputs": [
    {
     "ename": "NameError",
     "evalue": "name 'drive' is not defined",
     "output_type": "error",
     "traceback": [
      "\u001b[1;31m---------------------------------------------------------------------------\u001b[0m",
      "\u001b[1;31mNameError\u001b[0m                                 Traceback (most recent call last)",
      "\u001b[1;32m<ipython-input-20-96cad3897c45>\u001b[0m in \u001b[0;36m<module>\u001b[1;34m\u001b[0m\n\u001b[0;32m      3\u001b[0m \u001b[0msubdir\u001b[0m \u001b[1;33m=\u001b[0m \u001b[0mdir_main\u001b[0m \u001b[1;33m+\u001b[0m \u001b[1;34m'pict/'\u001b[0m\u001b[1;33m\u001b[0m\u001b[1;33m\u001b[0m\u001b[0m\n\u001b[0;32m      4\u001b[0m \u001b[0msub\u001b[0m \u001b[1;33m=\u001b[0m \u001b[0msubdir\u001b[0m \u001b[1;33m+\u001b[0m \u001b[1;34m'/%d.jpg'\u001b[0m\u001b[1;33m\u001b[0m\u001b[1;33m\u001b[0m\u001b[0m\n\u001b[1;32m----> 5\u001b[1;33m \u001b[0mmain\u001b[0m\u001b[1;33m(\u001b[0m\u001b[1;33m)\u001b[0m\u001b[1;33m\u001b[0m\u001b[1;33m\u001b[0m\u001b[0m\n\u001b[0m",
      "\u001b[1;32m<ipython-input-18-ceb0b80848d5>\u001b[0m in \u001b[0;36mmain\u001b[1;34m()\u001b[0m\n\u001b[0;32m      1\u001b[0m \u001b[1;32mdef\u001b[0m \u001b[0mmain\u001b[0m\u001b[1;33m(\u001b[0m\u001b[1;33m)\u001b[0m\u001b[1;33m:\u001b[0m\u001b[1;33m\u001b[0m\u001b[1;33m\u001b[0m\u001b[0m\n\u001b[1;32m----> 2\u001b[1;33m     \u001b[0mListFolder\u001b[0m\u001b[1;33m(\u001b[0m\u001b[1;34m'0B-FXLXAQElhrfjNiX0ZYMWFGWUlRenRBVFRlTldvbDFkdnVTWUVnOHJDZE1UbWpYM1JrZkU'\u001b[0m\u001b[1;33m,\u001b[0m \u001b[0mdir_main\u001b[0m\u001b[1;33m)\u001b[0m\u001b[1;33m\u001b[0m\u001b[1;33m\u001b[0m\u001b[0m\n\u001b[0m\u001b[0;32m      3\u001b[0m     \u001b[1;31m#print(database)\u001b[0m\u001b[1;33m\u001b[0m\u001b[1;33m\u001b[0m\u001b[1;33m\u001b[0m\u001b[0m\n",
      "\u001b[1;32m<ipython-input-11-0a3eedd89f53>\u001b[0m in \u001b[0;36mListFolder\u001b[1;34m(parent, folder)\u001b[0m\n\u001b[0;32m      2\u001b[0m     \u001b[0mresults\u001b[0m \u001b[1;33m=\u001b[0m \u001b[1;33m[\u001b[0m\u001b[1;33m]\u001b[0m\u001b[1;33m\u001b[0m\u001b[1;33m\u001b[0m\u001b[0m\n\u001b[0;32m      3\u001b[0m     \u001b[0mfile_list\u001b[0m \u001b[1;33m=\u001b[0m \u001b[1;33m[\u001b[0m\u001b[1;33m]\u001b[0m\u001b[1;33m\u001b[0m\u001b[1;33m\u001b[0m\u001b[0m\n\u001b[1;32m----> 4\u001b[1;33m     \u001b[0mfile_list\u001b[0m \u001b[1;33m=\u001b[0m \u001b[0mdrive\u001b[0m\u001b[1;33m.\u001b[0m\u001b[0mListFile\u001b[0m\u001b[1;33m(\u001b[0m\u001b[1;33m{\u001b[0m\u001b[1;34m'q'\u001b[0m\u001b[1;33m:\u001b[0m \u001b[1;34m\"'%s' in parents and trashed=false\"\u001b[0m \u001b[1;33m%\u001b[0m \u001b[0mparent\u001b[0m\u001b[1;33m}\u001b[0m\u001b[1;33m)\u001b[0m\u001b[1;33m.\u001b[0m\u001b[0mGetList\u001b[0m\u001b[1;33m(\u001b[0m\u001b[1;33m)\u001b[0m\u001b[1;33m\u001b[0m\u001b[1;33m\u001b[0m\u001b[0m\n\u001b[0m\u001b[0;32m      5\u001b[0m     \u001b[1;32mfor\u001b[0m \u001b[0mf\u001b[0m \u001b[1;32min\u001b[0m \u001b[0mfile_list\u001b[0m\u001b[1;33m:\u001b[0m\u001b[1;33m\u001b[0m\u001b[1;33m\u001b[0m\u001b[0m\n\u001b[0;32m      6\u001b[0m         \u001b[1;32mif\u001b[0m \u001b[0mf\u001b[0m\u001b[1;33m[\u001b[0m\u001b[1;34m'mimeType'\u001b[0m\u001b[1;33m]\u001b[0m\u001b[1;33m==\u001b[0m\u001b[1;34m'application/vnd.google-apps.folder'\u001b[0m\u001b[1;33m:\u001b[0m \u001b[1;31m# if folder\u001b[0m\u001b[1;33m\u001b[0m\u001b[1;33m\u001b[0m\u001b[0m\n",
      "\u001b[1;31mNameError\u001b[0m: name 'drive' is not defined"
     ]
    }
   ],
   "source": [
    "#print('Введите путь к файлам')\n",
    "dir_main = 'C:/Users/dfkhasanova/Desktop/Учеба/NIR/' #input()\n",
    "subdir = dir_main + 'pict/'\n",
    "sub = subdir + '/%d.jpg'\n",
    "main()"
   ]
  },
  {
   "cell_type": "code",
   "execution_count": null,
   "metadata": {},
   "outputs": [],
   "source": []
  },
  {
   "cell_type": "code",
   "execution_count": null,
   "metadata": {},
   "outputs": [],
   "source": []
  },
  {
   "cell_type": "code",
   "execution_count": null,
   "metadata": {},
   "outputs": [],
   "source": []
  },
  {
   "cell_type": "code",
   "execution_count": 115,
   "metadata": {},
   "outputs": [
    {
     "name": "stdout",
     "output_type": "stream",
     "text": [
      "C:/Users/dfkhasanova/Desktop/Учеба/NIR/11534\n"
     ]
    }
   ],
   "source": [
    "os.rename(subdir, dir_main + os.path.splitext(video)[0] + '/')\n",
    "for vid in os.listdir(os.path.splitext(video)[0]):\n",
    "    if '.avi' in vid:\n",
    "        search_similar(vid, \"18\", dir_main + vid.split(\".\")[0] + '/', dir_main)       \n",
    "delete_dir(video.split(\".\")[0])"
   ]
  },
  {
   "cell_type": "code",
   "execution_count": null,
   "metadata": {},
   "outputs": [],
   "source": []
  },
  {
   "cell_type": "code",
   "execution_count": 112,
   "metadata": {},
   "outputs": [],
   "source": [
    "video = \"11534.avi\""
   ]
  },
  {
   "cell_type": "code",
   "execution_count": 6,
   "metadata": {},
   "outputs": [
    {
     "ename": "ModuleNotFoundError",
     "evalue": "No module named 'mysql'",
     "output_type": "error",
     "traceback": [
      "\u001b[1;31m---------------------------------------------------------------------------\u001b[0m",
      "\u001b[1;31mModuleNotFoundError\u001b[0m                       Traceback (most recent call last)",
      "\u001b[1;32m<ipython-input-6-39668d1f094d>\u001b[0m in \u001b[0;36m<module>\u001b[1;34m\u001b[0m\n\u001b[1;32m----> 1\u001b[1;33m \u001b[1;32mimport\u001b[0m \u001b[0mmysql\u001b[0m\u001b[1;33m.\u001b[0m\u001b[0mconnector\u001b[0m\u001b[1;33m\u001b[0m\u001b[1;33m\u001b[0m\u001b[0m\n\u001b[0m\u001b[0;32m      2\u001b[0m \u001b[1;32mfrom\u001b[0m \u001b[0mmysql\u001b[0m\u001b[1;33m.\u001b[0m\u001b[0mconnector\u001b[0m \u001b[1;32mimport\u001b[0m \u001b[0mError\u001b[0m\u001b[1;33m\u001b[0m\u001b[1;33m\u001b[0m\u001b[0m\n\u001b[0;32m      3\u001b[0m \u001b[1;33m\u001b[0m\u001b[0m\n\u001b[0;32m      4\u001b[0m \u001b[1;32mdef\u001b[0m \u001b[0mconnect\u001b[0m\u001b[1;33m(\u001b[0m\u001b[1;33m)\u001b[0m\u001b[1;33m:\u001b[0m\u001b[1;33m\u001b[0m\u001b[1;33m\u001b[0m\u001b[0m\n\u001b[0;32m      5\u001b[0m     \u001b[1;34m\"\"\" Connect to MySQL database \"\"\"\u001b[0m\u001b[1;33m\u001b[0m\u001b[1;33m\u001b[0m\u001b[0m\n",
      "\u001b[1;31mModuleNotFoundError\u001b[0m: No module named 'mysql'"
     ]
    }
   ],
   "source": [
    "import mysql.connector\n",
    "from mysql.connector import Error\n",
    "\n",
    "def connect():\n",
    "    \"\"\" Connect to MySQL database \"\"\"\n",
    "    try:\n",
    "        conn = mysql.connector.connect(host='localhost',\n",
    "                                       database='python_mysql',\n",
    "                                       user='root',\n",
    "                                       password='secret')\n",
    "        if conn.is_connected():\n",
    "            print('Connected to MySQL database')\n",
    "\n",
    "    except Error as e:\n",
    "        print(e)\n",
    "\n",
    "    finally:\n",
    "        conn.close()"
   ]
  },
  {
   "cell_type": "code",
   "execution_count": 7,
   "metadata": {},
   "outputs": [
    {
     "ename": "OperationalError",
     "evalue": "(2003, \"Can't connect to MySQL server on '192.168.5.134' (timed out)\")",
     "output_type": "error",
     "traceback": [
      "\u001b[1;31m---------------------------------------------------------------------------\u001b[0m",
      "\u001b[1;31mtimeout\u001b[0m                                   Traceback (most recent call last)",
      "\u001b[1;32m~\\AppData\\Local\\Continuum\\anaconda3\\lib\\site-packages\\pymysql\\connections.py\u001b[0m in \u001b[0;36mconnect\u001b[1;34m(self, sock)\u001b[0m\n\u001b[0;32m    582\u001b[0m                                 \u001b[1;33m(\u001b[0m\u001b[0mself\u001b[0m\u001b[1;33m.\u001b[0m\u001b[0mhost\u001b[0m\u001b[1;33m,\u001b[0m \u001b[0mself\u001b[0m\u001b[1;33m.\u001b[0m\u001b[0mport\u001b[0m\u001b[1;33m)\u001b[0m\u001b[1;33m,\u001b[0m \u001b[0mself\u001b[0m\u001b[1;33m.\u001b[0m\u001b[0mconnect_timeout\u001b[0m\u001b[1;33m,\u001b[0m\u001b[1;33m\u001b[0m\u001b[1;33m\u001b[0m\u001b[0m\n\u001b[1;32m--> 583\u001b[1;33m                                 **kwargs)\n\u001b[0m\u001b[0;32m    584\u001b[0m                             \u001b[1;32mbreak\u001b[0m\u001b[1;33m\u001b[0m\u001b[1;33m\u001b[0m\u001b[0m\n",
      "\u001b[1;32m~\\AppData\\Local\\Continuum\\anaconda3\\lib\\socket.py\u001b[0m in \u001b[0;36mcreate_connection\u001b[1;34m(address, timeout, source_address)\u001b[0m\n\u001b[0;32m    726\u001b[0m     \u001b[1;32mif\u001b[0m \u001b[0merr\u001b[0m \u001b[1;32mis\u001b[0m \u001b[1;32mnot\u001b[0m \u001b[1;32mNone\u001b[0m\u001b[1;33m:\u001b[0m\u001b[1;33m\u001b[0m\u001b[1;33m\u001b[0m\u001b[0m\n\u001b[1;32m--> 727\u001b[1;33m         \u001b[1;32mraise\u001b[0m \u001b[0merr\u001b[0m\u001b[1;33m\u001b[0m\u001b[1;33m\u001b[0m\u001b[0m\n\u001b[0m\u001b[0;32m    728\u001b[0m     \u001b[1;32melse\u001b[0m\u001b[1;33m:\u001b[0m\u001b[1;33m\u001b[0m\u001b[1;33m\u001b[0m\u001b[0m\n",
      "\u001b[1;32m~\\AppData\\Local\\Continuum\\anaconda3\\lib\\socket.py\u001b[0m in \u001b[0;36mcreate_connection\u001b[1;34m(address, timeout, source_address)\u001b[0m\n\u001b[0;32m    715\u001b[0m                 \u001b[0msock\u001b[0m\u001b[1;33m.\u001b[0m\u001b[0mbind\u001b[0m\u001b[1;33m(\u001b[0m\u001b[0msource_address\u001b[0m\u001b[1;33m)\u001b[0m\u001b[1;33m\u001b[0m\u001b[1;33m\u001b[0m\u001b[0m\n\u001b[1;32m--> 716\u001b[1;33m             \u001b[0msock\u001b[0m\u001b[1;33m.\u001b[0m\u001b[0mconnect\u001b[0m\u001b[1;33m(\u001b[0m\u001b[0msa\u001b[0m\u001b[1;33m)\u001b[0m\u001b[1;33m\u001b[0m\u001b[1;33m\u001b[0m\u001b[0m\n\u001b[0m\u001b[0;32m    717\u001b[0m             \u001b[1;31m# Break explicitly a reference cycle\u001b[0m\u001b[1;33m\u001b[0m\u001b[1;33m\u001b[0m\u001b[1;33m\u001b[0m\u001b[0m\n",
      "\u001b[1;31mtimeout\u001b[0m: timed out",
      "\nDuring handling of the above exception, another exception occurred:\n",
      "\u001b[1;31mOperationalError\u001b[0m                          Traceback (most recent call last)",
      "\u001b[1;32m<ipython-input-7-0fc924f4bdeb>\u001b[0m in \u001b[0;36m<module>\u001b[1;34m\u001b[0m\n\u001b[0;32m      7\u001b[0m                              \u001b[0mdb\u001b[0m\u001b[1;33m=\u001b[0m\u001b[1;34m'simplehr'\u001b[0m\u001b[1;33m,\u001b[0m\u001b[1;33m\u001b[0m\u001b[1;33m\u001b[0m\u001b[0m\n\u001b[0;32m      8\u001b[0m                              \u001b[0mcharset\u001b[0m\u001b[1;33m=\u001b[0m\u001b[1;34m'utf8mb4'\u001b[0m\u001b[1;33m,\u001b[0m\u001b[1;33m\u001b[0m\u001b[1;33m\u001b[0m\u001b[0m\n\u001b[1;32m----> 9\u001b[1;33m                              cursorclass=pymysql.cursors.DictCursor)\n\u001b[0m\u001b[0;32m     10\u001b[0m \u001b[1;33m\u001b[0m\u001b[0m\n\u001b[0;32m     11\u001b[0m \u001b[0mprint\u001b[0m \u001b[1;33m(\u001b[0m\u001b[1;34m\"connect successful!!\"\u001b[0m\u001b[1;33m)\u001b[0m\u001b[1;33m\u001b[0m\u001b[1;33m\u001b[0m\u001b[0m\n",
      "\u001b[1;32m~\\AppData\\Local\\Continuum\\anaconda3\\lib\\site-packages\\pymysql\\__init__.py\u001b[0m in \u001b[0;36mConnect\u001b[1;34m(*args, **kwargs)\u001b[0m\n\u001b[0;32m     92\u001b[0m     \"\"\"\n\u001b[0;32m     93\u001b[0m     \u001b[1;32mfrom\u001b[0m \u001b[1;33m.\u001b[0m\u001b[0mconnections\u001b[0m \u001b[1;32mimport\u001b[0m \u001b[0mConnection\u001b[0m\u001b[1;33m\u001b[0m\u001b[1;33m\u001b[0m\u001b[0m\n\u001b[1;32m---> 94\u001b[1;33m     \u001b[1;32mreturn\u001b[0m \u001b[0mConnection\u001b[0m\u001b[1;33m(\u001b[0m\u001b[1;33m*\u001b[0m\u001b[0margs\u001b[0m\u001b[1;33m,\u001b[0m \u001b[1;33m**\u001b[0m\u001b[0mkwargs\u001b[0m\u001b[1;33m)\u001b[0m\u001b[1;33m\u001b[0m\u001b[1;33m\u001b[0m\u001b[0m\n\u001b[0m\u001b[0;32m     95\u001b[0m \u001b[1;33m\u001b[0m\u001b[0m\n\u001b[0;32m     96\u001b[0m \u001b[1;32mfrom\u001b[0m \u001b[1;33m.\u001b[0m \u001b[1;32mimport\u001b[0m \u001b[0mconnections\u001b[0m \u001b[1;32mas\u001b[0m \u001b[0m_orig_conn\u001b[0m\u001b[1;33m\u001b[0m\u001b[1;33m\u001b[0m\u001b[0m\n",
      "\u001b[1;32m~\\AppData\\Local\\Continuum\\anaconda3\\lib\\site-packages\\pymysql\\connections.py\u001b[0m in \u001b[0;36m__init__\u001b[1;34m(self, host, user, password, database, port, unix_socket, charset, sql_mode, read_default_file, conv, use_unicode, client_flag, cursorclass, init_command, connect_timeout, ssl, read_default_group, compress, named_pipe, autocommit, db, passwd, local_infile, max_allowed_packet, defer_connect, auth_plugin_map, read_timeout, write_timeout, bind_address, binary_prefix, program_name, server_public_key)\u001b[0m\n\u001b[0;32m    323\u001b[0m             \u001b[0mself\u001b[0m\u001b[1;33m.\u001b[0m\u001b[0m_sock\u001b[0m \u001b[1;33m=\u001b[0m \u001b[1;32mNone\u001b[0m\u001b[1;33m\u001b[0m\u001b[1;33m\u001b[0m\u001b[0m\n\u001b[0;32m    324\u001b[0m         \u001b[1;32melse\u001b[0m\u001b[1;33m:\u001b[0m\u001b[1;33m\u001b[0m\u001b[1;33m\u001b[0m\u001b[0m\n\u001b[1;32m--> 325\u001b[1;33m             \u001b[0mself\u001b[0m\u001b[1;33m.\u001b[0m\u001b[0mconnect\u001b[0m\u001b[1;33m(\u001b[0m\u001b[1;33m)\u001b[0m\u001b[1;33m\u001b[0m\u001b[1;33m\u001b[0m\u001b[0m\n\u001b[0m\u001b[0;32m    326\u001b[0m \u001b[1;33m\u001b[0m\u001b[0m\n\u001b[0;32m    327\u001b[0m     \u001b[1;32mdef\u001b[0m \u001b[0m_create_ssl_ctx\u001b[0m\u001b[1;33m(\u001b[0m\u001b[0mself\u001b[0m\u001b[1;33m,\u001b[0m \u001b[0msslp\u001b[0m\u001b[1;33m)\u001b[0m\u001b[1;33m:\u001b[0m\u001b[1;33m\u001b[0m\u001b[1;33m\u001b[0m\u001b[0m\n",
      "\u001b[1;32m~\\AppData\\Local\\Continuum\\anaconda3\\lib\\site-packages\\pymysql\\connections.py\u001b[0m in \u001b[0;36mconnect\u001b[1;34m(self, sock)\u001b[0m\n\u001b[0;32m    628\u001b[0m                 \u001b[0mexc\u001b[0m\u001b[1;33m.\u001b[0m\u001b[0mtraceback\u001b[0m \u001b[1;33m=\u001b[0m \u001b[0mtraceback\u001b[0m\u001b[1;33m.\u001b[0m\u001b[0mformat_exc\u001b[0m\u001b[1;33m(\u001b[0m\u001b[1;33m)\u001b[0m\u001b[1;33m\u001b[0m\u001b[1;33m\u001b[0m\u001b[0m\n\u001b[0;32m    629\u001b[0m                 \u001b[1;32mif\u001b[0m \u001b[0mDEBUG\u001b[0m\u001b[1;33m:\u001b[0m \u001b[0mprint\u001b[0m\u001b[1;33m(\u001b[0m\u001b[0mexc\u001b[0m\u001b[1;33m.\u001b[0m\u001b[0mtraceback\u001b[0m\u001b[1;33m)\u001b[0m\u001b[1;33m\u001b[0m\u001b[1;33m\u001b[0m\u001b[0m\n\u001b[1;32m--> 630\u001b[1;33m                 \u001b[1;32mraise\u001b[0m \u001b[0mexc\u001b[0m\u001b[1;33m\u001b[0m\u001b[1;33m\u001b[0m\u001b[0m\n\u001b[0m\u001b[0;32m    631\u001b[0m \u001b[1;33m\u001b[0m\u001b[0m\n\u001b[0;32m    632\u001b[0m             \u001b[1;31m# If e is neither DatabaseError or IOError, It's a bug.\u001b[0m\u001b[1;33m\u001b[0m\u001b[1;33m\u001b[0m\u001b[1;33m\u001b[0m\u001b[0m\n",
      "\u001b[1;31mOperationalError\u001b[0m: (2003, \"Can't connect to MySQL server on '192.168.5.134' (timed out)\")"
     ]
    }
   ],
   "source": [
    "import mysql.connector\n",
    "from mysql.connector import Error\n",
    "from mysql.connector import errorcode\n",
    "\n",
    "try:\n",
    "    connection = mysql.connector.connect(host='localhost',\n",
    "                                         database='electronics',\n",
    "                                         user='root',\n",
    "                                         password='pynative@#29')\n",
    "    mySql_insert_query = \"\"\"INSERT INTO Laptop (Id, Name, Price, Purchase_date) \n",
    "                           VALUES \n",
    "                           (10, 'Lenovo ThinkPad P71', 6459, '2019-08-14') \"\"\"\n",
    "\n",
    "    cursor = connection.cursor()\n",
    "    cursor.execute(mySql_insert_query)\n",
    "    connection.commit()\n",
    "    print(cursor.rowcount, \"Record inserted successfully into Laptop table\")\n",
    "    cursor.close()\n",
    "\n",
    "except mysql.connector.Error as error:\n",
    "    print(\"Failed to insert record into Laptop table {}\".format(error))\n",
    "\n",
    "finally:\n",
    "    if (connection.is_connected()):\n",
    "        connection.close()\n",
    "        print(\"MySQL connection is closed\")"
   ]
  },
  {
   "cell_type": "code",
   "execution_count": null,
   "metadata": {},
   "outputs": [],
   "source": []
  }
 ],
 "metadata": {
  "kernelspec": {
   "display_name": "Python 3",
   "language": "python",
   "name": "python3"
  },
  "language_info": {
   "codemirror_mode": {
    "name": "ipython",
    "version": 3
   },
   "file_extension": ".py",
   "mimetype": "text/x-python",
   "name": "python",
   "nbconvert_exporter": "python",
   "pygments_lexer": "ipython3",
   "version": "3.7.3"
  }
 },
 "nbformat": 4,
 "nbformat_minor": 2
}
